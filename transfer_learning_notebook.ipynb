{
  "cells": [
    {
      "cell_type": "markdown",
      "metadata": {
        "id": "view-in-github",
        "colab_type": "text"
      },
      "source": [
        "<a href=\"https://colab.research.google.com/github/gosha-shapira/dog_breed_transfer_learning_notebook/blob/main/transfer_learning_notebook.ipynb\" target=\"_parent\"><img src=\"https://colab.research.google.com/assets/colab-badge.svg\" alt=\"Open In Colab\"/></a>"
      ]
    },
    {
      "cell_type": "markdown",
      "metadata": {
        "id": "lP6JLo1tGNBg"
      },
      "source": [
        "# Transfer Learning Network\n",
        "**Name Student 1:**\n",
        "**ID Student 1:**<br><br>\n",
        "**Name Student 2:**\n",
        "**ID Student 2:**"
      ]
    },
    {
      "cell_type": "markdown",
      "metadata": {
        "id": "gWZyYmS_UE_L"
      },
      "source": [
        "### Import libraries"
      ]
    },
    {
      "cell_type": "code",
      "execution_count": null,
      "metadata": {
        "id": "MxkJoQBkUIHC"
      },
      "outputs": [],
      "source": [
        "import os\n",
        "import numpy as np\n",
        "import pandas as pd\n",
        "import tensorflow as tf\n",
        "from matplotlib import pyplot as plt"
      ]
    },
    {
      "cell_type": "code",
      "execution_count": null,
      "metadata": {
        "colab": {
          "base_uri": "https://localhost:8080/",
          "height": 35
        },
        "id": "ZaTwK7ojXr2F",
        "outputId": "68294a33-7b40-4308-d573-6352a6bc88da"
      },
      "outputs": [
        {
          "output_type": "execute_result",
          "data": {
            "application/vnd.google.colaboratory.intrinsic+json": {
              "type": "string"
            },
            "text/plain": [
              "'2.8.0'"
            ]
          },
          "metadata": {},
          "execution_count": 50
        }
      ],
      "source": [
        "tf.__version__"
      ]
    },
    {
      "cell_type": "code",
      "source": [
        "from google.colab import drive\n",
        "drive.mount('/content/drive')"
      ],
      "metadata": {
        "colab": {
          "base_uri": "https://localhost:8080/"
        },
        "id": "KfS1M3O8yi33",
        "outputId": "71b99468-02a5-44a0-a28c-7e3b6a8bc5d8"
      },
      "execution_count": null,
      "outputs": [
        {
          "output_type": "stream",
          "name": "stdout",
          "text": [
            "Mounted at /content/drive\n"
          ]
        }
      ]
    },
    {
      "cell_type": "markdown",
      "source": [
        "# Data Preprocessing"
      ],
      "metadata": {
        "id": "G7d-WdTaI0iw"
      }
    },
    {
      "cell_type": "code",
      "source": [
        "import pandas as pd\n",
        "import os\n",
        "import shutil\n",
        "\n",
        "labels=pd.read_csv('/content/drive/MyDrive/Semester1_FinalProject/labels.csv')\n",
        "labels.head()"
      ],
      "metadata": {
        "colab": {
          "base_uri": "https://localhost:8080/",
          "height": 206
        },
        "id": "uHhR-msQW2Q3",
        "outputId": "5897b4f4-3812-441a-e177-46f567c2a7a9"
      },
      "execution_count": null,
      "outputs": [
        {
          "output_type": "execute_result",
          "data": {
            "text/html": [
              "\n",
              "  <div id=\"df-4118ad69-56fe-4e9d-a8e0-1182174ac001\">\n",
              "    <div class=\"colab-df-container\">\n",
              "      <div>\n",
              "<style scoped>\n",
              "    .dataframe tbody tr th:only-of-type {\n",
              "        vertical-align: middle;\n",
              "    }\n",
              "\n",
              "    .dataframe tbody tr th {\n",
              "        vertical-align: top;\n",
              "    }\n",
              "\n",
              "    .dataframe thead th {\n",
              "        text-align: right;\n",
              "    }\n",
              "</style>\n",
              "<table border=\"1\" class=\"dataframe\">\n",
              "  <thead>\n",
              "    <tr style=\"text-align: right;\">\n",
              "      <th></th>\n",
              "      <th>id</th>\n",
              "      <th>breed</th>\n",
              "    </tr>\n",
              "  </thead>\n",
              "  <tbody>\n",
              "    <tr>\n",
              "      <th>0</th>\n",
              "      <td>000bec180eb18c7604dcecc8fe0dba07</td>\n",
              "      <td>boston_bull</td>\n",
              "    </tr>\n",
              "    <tr>\n",
              "      <th>1</th>\n",
              "      <td>001513dfcb2ffafc82cccf4d8bbaba97</td>\n",
              "      <td>dingo</td>\n",
              "    </tr>\n",
              "    <tr>\n",
              "      <th>2</th>\n",
              "      <td>001cdf01b096e06d78e9e5112d419397</td>\n",
              "      <td>pekinese</td>\n",
              "    </tr>\n",
              "    <tr>\n",
              "      <th>3</th>\n",
              "      <td>00214f311d5d2247d5dfe4fe24b2303d</td>\n",
              "      <td>bluetick</td>\n",
              "    </tr>\n",
              "    <tr>\n",
              "      <th>4</th>\n",
              "      <td>0021f9ceb3235effd7fcde7f7538ed62</td>\n",
              "      <td>golden_retriever</td>\n",
              "    </tr>\n",
              "  </tbody>\n",
              "</table>\n",
              "</div>\n",
              "      <button class=\"colab-df-convert\" onclick=\"convertToInteractive('df-4118ad69-56fe-4e9d-a8e0-1182174ac001')\"\n",
              "              title=\"Convert this dataframe to an interactive table.\"\n",
              "              style=\"display:none;\">\n",
              "        \n",
              "  <svg xmlns=\"http://www.w3.org/2000/svg\" height=\"24px\"viewBox=\"0 0 24 24\"\n",
              "       width=\"24px\">\n",
              "    <path d=\"M0 0h24v24H0V0z\" fill=\"none\"/>\n",
              "    <path d=\"M18.56 5.44l.94 2.06.94-2.06 2.06-.94-2.06-.94-.94-2.06-.94 2.06-2.06.94zm-11 1L8.5 8.5l.94-2.06 2.06-.94-2.06-.94L8.5 2.5l-.94 2.06-2.06.94zm10 10l.94 2.06.94-2.06 2.06-.94-2.06-.94-.94-2.06-.94 2.06-2.06.94z\"/><path d=\"M17.41 7.96l-1.37-1.37c-.4-.4-.92-.59-1.43-.59-.52 0-1.04.2-1.43.59L10.3 9.45l-7.72 7.72c-.78.78-.78 2.05 0 2.83L4 21.41c.39.39.9.59 1.41.59.51 0 1.02-.2 1.41-.59l7.78-7.78 2.81-2.81c.8-.78.8-2.07 0-2.86zM5.41 20L4 18.59l7.72-7.72 1.47 1.35L5.41 20z\"/>\n",
              "  </svg>\n",
              "      </button>\n",
              "      \n",
              "  <style>\n",
              "    .colab-df-container {\n",
              "      display:flex;\n",
              "      flex-wrap:wrap;\n",
              "      gap: 12px;\n",
              "    }\n",
              "\n",
              "    .colab-df-convert {\n",
              "      background-color: #E8F0FE;\n",
              "      border: none;\n",
              "      border-radius: 50%;\n",
              "      cursor: pointer;\n",
              "      display: none;\n",
              "      fill: #1967D2;\n",
              "      height: 32px;\n",
              "      padding: 0 0 0 0;\n",
              "      width: 32px;\n",
              "    }\n",
              "\n",
              "    .colab-df-convert:hover {\n",
              "      background-color: #E2EBFA;\n",
              "      box-shadow: 0px 1px 2px rgba(60, 64, 67, 0.3), 0px 1px 3px 1px rgba(60, 64, 67, 0.15);\n",
              "      fill: #174EA6;\n",
              "    }\n",
              "\n",
              "    [theme=dark] .colab-df-convert {\n",
              "      background-color: #3B4455;\n",
              "      fill: #D2E3FC;\n",
              "    }\n",
              "\n",
              "    [theme=dark] .colab-df-convert:hover {\n",
              "      background-color: #434B5C;\n",
              "      box-shadow: 0px 1px 3px 1px rgba(0, 0, 0, 0.15);\n",
              "      filter: drop-shadow(0px 1px 2px rgba(0, 0, 0, 0.3));\n",
              "      fill: #FFFFFF;\n",
              "    }\n",
              "  </style>\n",
              "\n",
              "      <script>\n",
              "        const buttonEl =\n",
              "          document.querySelector('#df-4118ad69-56fe-4e9d-a8e0-1182174ac001 button.colab-df-convert');\n",
              "        buttonEl.style.display =\n",
              "          google.colab.kernel.accessAllowed ? 'block' : 'none';\n",
              "\n",
              "        async function convertToInteractive(key) {\n",
              "          const element = document.querySelector('#df-4118ad69-56fe-4e9d-a8e0-1182174ac001');\n",
              "          const dataTable =\n",
              "            await google.colab.kernel.invokeFunction('convertToInteractive',\n",
              "                                                     [key], {});\n",
              "          if (!dataTable) return;\n",
              "\n",
              "          const docLinkHtml = 'Like what you see? Visit the ' +\n",
              "            '<a target=\"_blank\" href=https://colab.research.google.com/notebooks/data_table.ipynb>data table notebook</a>'\n",
              "            + ' to learn more about interactive tables.';\n",
              "          element.innerHTML = '';\n",
              "          dataTable['output_type'] = 'display_data';\n",
              "          await google.colab.output.renderOutput(dataTable, element);\n",
              "          const docLink = document.createElement('div');\n",
              "          docLink.innerHTML = docLinkHtml;\n",
              "          element.appendChild(docLink);\n",
              "        }\n",
              "      </script>\n",
              "    </div>\n",
              "  </div>\n",
              "  "
            ],
            "text/plain": [
              "                                 id             breed\n",
              "0  000bec180eb18c7604dcecc8fe0dba07       boston_bull\n",
              "1  001513dfcb2ffafc82cccf4d8bbaba97             dingo\n",
              "2  001cdf01b096e06d78e9e5112d419397          pekinese\n",
              "3  00214f311d5d2247d5dfe4fe24b2303d          bluetick\n",
              "4  0021f9ceb3235effd7fcde7f7538ed62  golden_retriever"
            ]
          },
          "metadata": {},
          "execution_count": 4
        }
      ]
    },
    {
      "cell_type": "code",
      "source": [
        "breeds=list(labels['breed'].unique())\n",
        "len(breeds)"
      ],
      "metadata": {
        "colab": {
          "base_uri": "https://localhost:8080/"
        },
        "id": "hs83WbPsXEvp",
        "outputId": "166929c2-785c-4300-a04b-63194898eeb6"
      },
      "execution_count": null,
      "outputs": [
        {
          "output_type": "execute_result",
          "data": {
            "text/plain": [
              "120"
            ]
          },
          "metadata": {},
          "execution_count": 5
        }
      ]
    },
    {
      "cell_type": "code",
      "source": [
        "## divide the train data into different folders according to their breed names\n",
        "os.mkdir('/content/drive/MyDrive/Final_Project/new_train')\n",
        "\n",
        "for i in range(len(labels)):\n",
        "    if labels['breed'][i] not in os.listdir('/content/drive/MyDrive/Final_Project/new_train'):\n",
        "      os.mkdir('/content/drive/MyDrive/Final_Project/new_train/'+labels['breed'][i])\n",
        "    if (len(os.listdir('/content/drive/MyDrive/Final_Project/new_train/' + labels['breed'][i])) < 50):\n",
        "      shutil.copy('/content/drive/MyDrive/Final_Project/train/'+labels['id'][i]+'.jpg', '/content/drive/MyDrive/Final_Project/new_train/' +labels['breed'][i])"
      ],
      "metadata": {
        "id": "uYHVEKcTXIkf"
      },
      "execution_count": null,
      "outputs": []
    },
    {
      "cell_type": "code",
      "source": [
        "import random\n",
        "import numpy as np\n",
        "\n",
        "del list \n",
        "\n",
        "os.chdir('/content/drive/MyDrive/Final_Project/new_train')\n",
        "\n",
        "# split data into train(80%), val(10%), test(10%)\n",
        "for i in ['train','val','test']:\n",
        "    os.mkdir('/content/drive/MyDrive/Final_Project/' + i)\n",
        "\n",
        "for i in breeds:\n",
        "    os.mkdir('/content/drive/MyDrive/Final_Project/train/'+ i)\n",
        "    os.mkdir('/content/drive/MyDrive/Final_Project/val/'+ i)\n",
        "    os.mkdir('/content/drive/MyDrive/Final_Project/test/'+ i)\n",
        "    breed_i=os.listdir(i)\n",
        "    a=list(range(len(breed_i)))\n",
        "    np.random.shuffle(a)\n",
        "    idx1=round(len(breed_i)*0.8)\n",
        "    idx2=round(len(breed_i)*0.9)\n",
        "    train=list(pd.Series(breed_i)[a[:idx1]])\n",
        "    val=list(pd.Series(breed_i)[a[idx1:idx2]])\n",
        "    test=list(pd.Series(breed_i)[a[idx2:]])\n",
        "    for t in train:\n",
        "        shutil.copy('/content/drive/MyDrive/Final_Project/new_train/' + i +'/'+t, '/content/drive/MyDrive/Final_Project/train/'+ i)\n",
        "    for v in val:\n",
        "        shutil.copy('/content/drive/MyDrive/Final_Project/new_train/' + i +'/'+v, '/content/drive/MyDrive/Final_Project/val/'+ i)\n",
        "    for te in test:\n",
        "        shutil.copy('/content/drive/MyDrive/Final_Project/new_train/' + i +'/'+te, '/content/drive/MyDrive/Final_Project/test/'+ i)"
      ],
      "metadata": {
        "id": "MD_ZMJGjkk7v"
      },
      "execution_count": null,
      "outputs": []
    },
    {
      "cell_type": "markdown",
      "source": [
        "\n",
        "# Assistance functions \n"
      ],
      "metadata": {
        "id": "_yJK9kDRBcZm"
      }
    },
    {
      "cell_type": "code",
      "source": [
        "from keras.preprocessing import image                  \n",
        "from tqdm import tqdm\n",
        "import numpy as np\n",
        "\n",
        "def path_to_tensor(img_path):\n",
        "    # loads RGB image as PIL.Image.Image type\n",
        "    img = image.load_img(img_path, target_size=(224, 224))\n",
        "    # convert PIL.Image.Image type to 3D tensor with shape (224, 224, 3)\n",
        "    x = image.img_to_array(img)\n",
        "    # convert 3D tensor to 4D tensor with shape (1, 224, 224, 3) and return 4D tensor\n",
        "    return np.expand_dims(x, axis=0)\n",
        "\n",
        "def paths_to_tensor(img_paths):\n",
        "    list_of_tensors = [path_to_tensor(img_path) for img_path in tqdm(img_paths)]\n",
        "    return np.vstack(list_of_tensors)"
      ],
      "metadata": {
        "id": "bdE59ZsvBk5F"
      },
      "execution_count": null,
      "outputs": []
    },
    {
      "cell_type": "code",
      "source": [
        "from sklearn.datasets import load_files       \n",
        "from keras.utils import np_utils\n",
        "import numpy as np\n",
        "from glob import glob\n",
        "from sklearn.model_selection import train_test_split\n",
        "\n",
        "# define function to load train, test, and validation datasets\n",
        "def load_dataset(path):\n",
        "    #Load text files with categories as subfolder names.\n",
        "    data = load_files(path)\n",
        "    dog_files = np.array(data['filenames'])\n",
        "    dog_targets = np_utils.to_categorical(np.array(data['target']), 120)\n",
        "    return dog_files, dog_targets"
      ],
      "metadata": {
        "id": "W7WODL3VBycT"
      },
      "execution_count": null,
      "outputs": []
    },
    {
      "cell_type": "code",
      "source": [
        "def report_accuracy(test_tensors, test_targets):\n",
        "    # get index of predicted dog breed for each image in test set\n",
        "    dog_breed_predictions = [np.argmax(model.predict(np.expand_dims(tensor, axis=0))) for tensor in test_tensors]\n",
        "\n",
        "    # Find out the Number of Samples\n",
        "    num_test_samples = len(dog_breed_predictions)\n",
        "\n",
        "    print(\"The Number of Test images are: {}\".format(num_test_samples))\n",
        "\n",
        "    # report test accuracy\n",
        "    test_accuracy = 100*np.sum(np.array(dog_breed_predictions)==np.argmax(test_targets, axis=1))/len(dog_breed_predictions)\n",
        "    print('Test accuracy: %.4f%%' % test_accuracy)"
      ],
      "metadata": {
        "id": "QAz93A-iB2Xm"
      },
      "execution_count": null,
      "outputs": []
    },
    {
      "cell_type": "markdown",
      "source": [
        "# Augmanted data\n"
      ],
      "metadata": {
        "id": "bLnCreCFNyM9"
      }
    },
    {
      "cell_type": "code",
      "source": [
        "# load train, test, and validation datasets\n",
        "os.chdir('/content/drive/MyDrive/Final_Project')\n",
        "train_files, train_targets = load_dataset('/content/drive/MyDrive/Final_Project/train')\n",
        "val_files, val_targets = load_dataset('/content/drive/MyDrive/Final_Project/val')\n",
        "test_files, test_targets = load_dataset('/content/drive/MyDrive/Final_Project/test')\n",
        "\n",
        "# load list of dog breed names\n",
        "breeds = [item[21:-1] for item in sorted(glob(\"/content/drive/MyDrive/Final_Project/train/*/\"))]\n",
        "\n",
        "# print statistics about the dataset\n",
        "print('There are %d total dog categories.' % len(breeds))\n",
        "print('There are %s total dog images.\\n' % len(np.hstack([train_files, val_files, test_files])))\n",
        "print('There are %d training dog images.' % len(train_files))\n",
        "print('There are %d validation dog images.' % len(val_files))\n",
        "print('There are %d test dog images.'% len(test_files))"
      ],
      "metadata": {
        "colab": {
          "base_uri": "https://localhost:8080/"
        },
        "id": "zWpe6NeMFuWM",
        "outputId": "0c5adc3f-ac4a-4cad-b21e-4e6269b7086f"
      },
      "execution_count": null,
      "outputs": [
        {
          "output_type": "stream",
          "name": "stdout",
          "text": [
            "There are 120 total dog categories.\n",
            "There are 6000 total dog images.\n",
            "\n",
            "There are 4800 training dog images.\n",
            "There are 600 validation dog images.\n",
            "There are 600 test dog images.\n"
          ]
        }
      ]
    },
    {
      "cell_type": "code",
      "source": [
        "from PIL import ImageFile                            \n",
        "ImageFile.LOAD_TRUNCATED_IMAGES = True                 \n",
        "\n",
        "# pre-process the data for Keras - Converts to (224, 224) and converts into a numpy array using PIL.\n",
        "train_tensors = paths_to_tensor(train_files).astype('float32')/255\n",
        "val_tensors = paths_to_tensor(val_files).astype('float32')/255\n",
        "test_tensors = paths_to_tensor(test_files).astype('float32')/255"
      ],
      "metadata": {
        "colab": {
          "base_uri": "https://localhost:8080/"
        },
        "id": "uTZe_-yyGU_0",
        "outputId": "01b4e05c-d68d-4265-9f19-b41c13b61838"
      },
      "execution_count": null,
      "outputs": [
        {
          "output_type": "stream",
          "name": "stderr",
          "text": [
            "100%|██████████| 4800/4800 [00:26<00:00, 180.01it/s]\n",
            "100%|██████████| 600/600 [00:10<00:00, 55.38it/s]\n",
            "100%|██████████| 600/600 [00:04<00:00, 132.44it/s]\n"
          ]
        }
      ]
    },
    {
      "cell_type": "markdown",
      "source": [
        "# Visualization of the given data (the original data) before augmentation to new train set\n"
      ],
      "metadata": {
        "id": "iGvonV0sNO4A"
      }
    },
    {
      "cell_type": "code",
      "source": [
        "import seaborn as sns\n",
        "import pandas as pd\n",
        "from pandas import DataFrame, Series\n",
        "import matplotlib.pyplot as plt\n",
        "\n",
        "yy = pd.value_counts(labels['breed'])\n",
        "\n",
        "fig, ax = plt.subplots()\n",
        "fig.set_size_inches(15, 9)\n",
        "sns.set_style(\"whitegrid\")\n",
        "\n",
        "ax = sns.barplot(x = yy.index, y = yy, data = labels)\n",
        "ax.set_xticklabels(ax.get_xticklabels(), rotation = 90, fontsize = 8)\n",
        "ax.set(xlabel='Dog Breed', ylabel='Count')\n",
        "ax.set_title('Distribution of Dog breeds')\n",
        "plt.show()"
      ],
      "metadata": {
        "colab": {
          "base_uri": "https://localhost:8080/",
          "height": 680
        },
        "id": "2rWwCxV6GXBM",
        "outputId": "a4d114a0-63ba-4a6f-eb2a-9b692069bb73"
      },
      "execution_count": null,
      "outputs": [
        {
          "output_type": "display_data",
          "data": {
            "image/png": "[encoded data removed]",
            "text/plain": [
              "<Figure size 1080x648 with 1 Axes>"
            ]
          },
          "metadata": {}
        }
      ]
    },
    {
      "cell_type": "code",
      "source": [
        "yy.head()\n"
      ],
      "metadata": {
        "colab": {
          "base_uri": "https://localhost:8080/"
        },
        "id": "6PL-aqpcPi6O",
        "outputId": "8409c644-8d78-435d-a0ff-91610189e8d0"
      },
      "execution_count": null,
      "outputs": [
        {
          "output_type": "execute_result",
          "data": {
            "text/plain": [
              "scottish_deerhound      126\n",
              "maltese_dog             117\n",
              "afghan_hound            116\n",
              "entlebucher             115\n",
              "bernese_mountain_dog    114\n",
              "Name: breed, dtype: int64"
            ]
          },
          "metadata": {},
          "execution_count": 57
        }
      ]
    },
    {
      "cell_type": "markdown",
      "metadata": {
        "id": "-zfEzkRVXIwF"
      },
      "source": [
        "### Building NN"
      ]
    },
    {
      "cell_type": "code",
      "execution_count": null,
      "metadata": {
        "id": "3dtrScHxXQox"
      },
      "outputs": [],
      "source": [
        ""
      ]
    },
    {
      "cell_type": "markdown",
      "metadata": {
        "id": "JT4u2S1_Y4WG"
      },
      "source": [
        "### Training NN"
      ]
    },
    {
      "cell_type": "code",
      "execution_count": null,
      "outputs": [],
      "source": [
        ""
      ],
      "metadata": {
        "pycharm": {
          "name": "#%%\n"
        },
        "id": "oL5lRg6Ip5J0"
      }
    },
    {
      "cell_type": "markdown",
      "source": [
        "### Visualization of Loss and Accuracy"
      ],
      "metadata": {
        "collapsed": false,
        "pycharm": {
          "name": "#%% md\n"
        },
        "id": "94oD_LEYp5J1"
      }
    },
    {
      "cell_type": "code",
      "execution_count": null,
      "metadata": {
        "pycharm": {
          "is_executing": true
        },
        "id": "eiWNniOvp5J1"
      },
      "outputs": [],
      "source": [
        ""
      ]
    },
    {
      "cell_type": "markdown",
      "metadata": {
        "id": "tJj5k2MxZga3"
      },
      "source": [
        "### Making the predictions and evaluating the model"
      ]
    },
    {
      "cell_type": "code",
      "execution_count": null,
      "outputs": [],
      "source": [
        ""
      ],
      "metadata": {
        "pycharm": {
          "name": "#%%\n"
        },
        "id": "AWRyIVf-p5J2"
      }
    },
    {
      "cell_type": "markdown",
      "source": [
        "### Model Performance Evaluation"
      ],
      "metadata": {
        "collapsed": false,
        "pycharm": {
          "name": "#%% md\n"
        },
        "id": "bPRlcOI4p5J2"
      }
    },
    {
      "cell_type": "code",
      "execution_count": null,
      "outputs": [],
      "source": [
        ""
      ],
      "metadata": {
        "pycharm": {
          "name": "#%%\n",
          "is_executing": true
        },
        "id": "eVvbegu-p5J3"
      }
    },
    {
      "cell_type": "markdown",
      "source": [
        "# Building the CNN"
      ],
      "metadata": {
        "id": "CEDMgxPEQYee"
      }
    },
    {
      "cell_type": "markdown",
      "source": [
        "**small first try model**\n",
        "build the model layer by layer using keras"
      ],
      "metadata": {
        "id": "fIO-_PQlQ2ij"
      }
    },
    {
      "cell_type": "code",
      "source": [
        "from keras.preprocessing.image import ImageDataGenerator\n",
        "from keras.models import Sequential\n",
        "from keras.layers import Conv2D, MaxPooling2D\n",
        "from keras.layers import Activation, Dropout, Flatten, Dense\n",
        "from keras import backend as K\n",
        "\n",
        "# dimensions of our images\n",
        "img_width, img_height = 224, 224\n",
        "train_data_dir = '/content/drive/MyDrive/Final_Project/train'\n",
        "validation_data_dir = '/content/drive/MyDrive/Final_Project/val'\n",
        "nb_train_samples = 4800\n",
        "nb_validation_samples = 600\n",
        "epochs = 50\n",
        "batch_size = 16\n",
        "\n",
        "if K.image_data_format() == 'channels_first':\n",
        "    input_shape = (3, img_width, img_height)\n",
        "else:\n",
        "    input_shape = (img_width, img_height, 3)\n",
        "\n",
        "model = Sequential()\n",
        "model.add(Conv2D(32, (3, 3), input_shape=input_shape))\n",
        "model.add(Activation('relu'))\n",
        "model.add(MaxPooling2D(pool_size=(2, 2)))\n",
        "model.add(Conv2D(32, (3, 3)))\n",
        "model.add(Activation('relu'))\n",
        "model.add(MaxPooling2D(pool_size=(2, 2)))\n",
        "model.add(Conv2D(64, (3, 3)))\n",
        "model.add(Activation('relu'))\n",
        "model.add(MaxPooling2D(pool_size=(2, 2)))\n",
        "model.add(Flatten())\n",
        "model.add(Dense(64))\n",
        "model.add(Activation('relu'))\n",
        "model.add(Dropout(0.5))\n",
        "model.add(Dense(120))\n",
        "model.add(Activation('softmax'))\n",
        "model.compile(loss='categorical_crossentropy', optimizer='rmsprop', metrics=['accuracy'])\n",
        "\n",
        "model.summary()"
      ],
      "metadata": {
        "id": "lVy1YOf6Qcem",
        "colab": {
          "base_uri": "https://localhost:8080/"
        },
        "outputId": "61c2316f-d65f-460a-d501-a5259581b7de"
      },
      "execution_count": 67,
      "outputs": [
        {
          "output_type": "stream",
          "name": "stdout",
          "text": [
            "Model: \"sequential_3\"\n",
            "_________________________________________________________________\n",
            " Layer (type)                Output Shape              Param #   \n",
            "=================================================================\n",
            " conv2d_12 (Conv2D)          (None, 222, 222, 32)      896       \n",
            "                                                                 \n",
            " activation_15 (Activation)  (None, 222, 222, 32)      0         \n",
            "                                                                 \n",
            " max_pooling2d_12 (MaxPoolin  (None, 111, 111, 32)     0         \n",
            " g2D)                                                            \n",
            "                                                                 \n",
            " conv2d_13 (Conv2D)          (None, 109, 109, 32)      9248      \n",
            "                                                                 \n",
            " activation_16 (Activation)  (None, 109, 109, 32)      0         \n",
            "                                                                 \n",
            " max_pooling2d_13 (MaxPoolin  (None, 54, 54, 32)       0         \n",
            " g2D)                                                            \n",
            "                                                                 \n",
            " conv2d_14 (Conv2D)          (None, 52, 52, 64)        18496     \n",
            "                                                                 \n",
            " activation_17 (Activation)  (None, 52, 52, 64)        0         \n",
            "                                                                 \n",
            " max_pooling2d_14 (MaxPoolin  (None, 26, 26, 64)       0         \n",
            " g2D)                                                            \n",
            "                                                                 \n",
            " flatten_3 (Flatten)         (None, 43264)             0         \n",
            "                                                                 \n",
            " dense_7 (Dense)             (None, 64)                2768960   \n",
            "                                                                 \n",
            " activation_18 (Activation)  (None, 64)                0         \n",
            "                                                                 \n",
            " dropout_3 (Dropout)         (None, 64)                0         \n",
            "                                                                 \n",
            " dense_8 (Dense)             (None, 120)               7800      \n",
            "                                                                 \n",
            " activation_19 (Activation)  (None, 120)               0         \n",
            "                                                                 \n",
            "=================================================================\n",
            "Total params: 2,805,400\n",
            "Trainable params: 2,805,400\n",
            "Non-trainable params: 0\n",
            "_________________________________________________________________\n"
          ]
        }
      ]
    },
    {
      "cell_type": "markdown",
      "source": [
        "### Training NN"
      ],
      "metadata": {
        "id": "dwLrD09xRF_V"
      }
    },
    {
      "cell_type": "code",
      "source": [
        "# this is the augmentation configuration we will use for training\n",
        "train_datagen = ImageDataGenerator(\n",
        "    rescale=1. / 255,\n",
        "    shear_range=0.2,\n",
        "    zoom_range=0.2,\n",
        "    horizontal_flip=True)\n",
        "\n",
        "# this is the augmentation configuration we will use for testing: only rescaling\n",
        "test_datagen = ImageDataGenerator(rescale=1. / 255)\n",
        "\n",
        "train_generator = train_datagen.flow_from_directory(\n",
        "    train_data_dir,\n",
        "    target_size=(img_width, img_height),\n",
        "    batch_size=batch_size,\n",
        "    class_mode='categorical')\n",
        "\n",
        "validation_generator = test_datagen.flow_from_directory(\n",
        "    validation_data_dir,\n",
        "    target_size=(img_width, img_height),\n",
        "    batch_size=batch_size,\n",
        "    class_mode='categorical')\n",
        "\n",
        "model.fit_generator(\n",
        "    train_generator,\n",
        "    steps_per_epoch=nb_train_samples // batch_size,\n",
        "    epochs=epochs,\n",
        "    validation_data=validation_generator,\n",
        "    validation_steps=nb_validation_samples // batch_size)\n",
        "\n",
        "model.save_weights('final_scratch.h5')"
      ],
      "metadata": {
        "colab": {
          "base_uri": "https://localhost:8080/"
        },
        "id": "1um1Hu7SQh5D",
        "outputId": "fa24d9f8-32c9-48bc-8a75-bfc21dc71466"
      },
      "execution_count": null,
      "outputs": [
        {
          "output_type": "stream",
          "name": "stdout",
          "text": [
            "Found 4800 images belonging to 120 classes.\n",
            "Found 600 images belonging to 120 classes.\n"
          ]
        },
        {
          "output_type": "stream",
          "name": "stderr",
          "text": [
            "/usr/local/lib/python3.7/dist-packages/ipykernel_launcher.py:28: UserWarning: `Model.fit_generator` is deprecated and will be removed in a future version. Please use `Model.fit`, which supports generators.\n"
          ]
        },
        {
          "output_type": "stream",
          "name": "stdout",
          "text": [
            "Epoch 1/50\n",
            "300/300 [==============================] - 347s 1s/step - loss: 4.8102 - accuracy: 0.0050 - val_loss: 4.7873 - val_accuracy: 0.0101\n",
            "Epoch 2/50\n",
            "300/300 [==============================] - 332s 1s/step - loss: 4.7923 - accuracy: 0.0085 - val_loss: 4.7871 - val_accuracy: 0.0118\n",
            "Epoch 3/50\n",
            "182/300 [=================>............] - ETA: 2:03 - loss: 4.7910 - accuracy: 0.0086"
          ]
        }
      ]
    },
    {
      "cell_type": "markdown",
      "source": [
        "model prediction"
      ],
      "metadata": {
        "id": "PBikkAg6RQAZ"
      }
    },
    {
      "cell_type": "code",
      "source": [
        "model.load_weights('final_scratch.h5')\n",
        "\n",
        "print('For training set:')\n",
        "report_accuracy(train_tensors, train_targets)\n",
        "\n",
        "print('For validation set:')\n",
        "report_accuracy(val_tensors, val_targets)\n",
        "\n",
        "print('For test set:')\n",
        "report_accuracy(test_tensors, test_targets)"
      ],
      "metadata": {
        "id": "CXJtuAEKdt_w"
      },
      "execution_count": null,
      "outputs": []
    },
    {
      "cell_type": "markdown",
      "source": [
        "# Experiment number 1:"
      ],
      "metadata": {
        "collapsed": false,
        "pycharm": {
          "name": "#%% md\n"
        },
        "id": "RhNPh7pep5J3"
      }
    },
    {
      "cell_type": "markdown",
      "source": [
        "# Experiment number 2:"
      ],
      "metadata": {
        "collapsed": false,
        "pycharm": {
          "name": "#%% md\n"
        },
        "id": "K7rlbSSup5J3"
      }
    },
    {
      "cell_type": "markdown",
      "source": [
        "# Experiment number 3:"
      ],
      "metadata": {
        "collapsed": false,
        "pycharm": {
          "name": "#%% md\n"
        },
        "id": "U3a5xCKUp5J3"
      }
    },
    {
      "cell_type": "markdown",
      "source": [
        "# Experiment number 4 (The Chosen architecture):"
      ],
      "metadata": {
        "collapsed": false,
        "pycharm": {
          "name": "#%% md\n"
        },
        "id": "1cSSMojgp5J4"
      }
    }
  ],
  "metadata": {
    "colab": {
      "collapsed_sections": [],
      "name": "transfer_learning_notebook.ipynb",
      "provenance": [],
      "include_colab_link": true
    },
    "kernelspec": {
      "display_name": "Python 3 (ipykernel)",
      "language": "python",
      "name": "python3"
    },
    "language_info": {
      "codemirror_mode": {
        "name": "ipython",
        "version": 3
      },
      "file_extension": ".py",
      "mimetype": "text/x-python",
      "name": "python",
      "nbconvert_exporter": "python",
      "pygments_lexer": "ipython3",
      "version": "3.8.10"
    }
  },
  "nbformat": 4,
  "nbformat_minor": 0
}